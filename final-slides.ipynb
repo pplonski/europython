{
 "cells": [
  {
   "cell_type": "raw",
   "id": "270f7827",
   "metadata": {},
   "source": [
    "---\n",
    "title: Final slides\n",
    "description: EuroPython 2022\n",
    "output: slides\n",
    "format:\n",
    "    theme: simple\n",
    "show-code: false\n",
    "---"
   ]
  },
  {
   "cell_type": "code",
   "execution_count": null,
   "id": "0837ebd3",
   "metadata": {},
   "outputs": [],
   "source": []
  }
 ],
 "metadata": {
  "kernelspec": {
   "display_name": "euroenv",
   "language": "python",
   "name": "euroenv"
  },
  "language_info": {
   "codemirror_mode": {
    "name": "ipython",
    "version": 3
   },
   "file_extension": ".py",
   "mimetype": "text/x-python",
   "name": "python",
   "nbconvert_exporter": "python",
   "pygments_lexer": "ipython3",
   "version": "3.8.0"
  }
 },
 "nbformat": 4,
 "nbformat_minor": 5
}
