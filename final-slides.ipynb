{
 "cells": [
  {
   "cell_type": "raw",
   "id": "2ea0b5e9",
   "metadata": {
    "slideshow": {
     "slide_type": "skip"
    }
   },
   "source": [
    "---\n",
    "title: Final slides\n",
    "description: EuroPython 2022\n",
    "output: slides\n",
    "format:\n",
    "    theme: simple\n",
    "show-code: false\n",
    "---"
   ]
  },
  {
   "cell_type": "markdown",
   "id": "52c6f705",
   "metadata": {
    "slideshow": {
     "slide_type": "slide"
    }
   },
   "source": [
    "# Future development"
   ]
  },
  {
   "cell_type": "markdown",
   "id": "920196a8",
   "metadata": {
    "slideshow": {
     "slide_type": "fragment"
    }
   },
   "source": [
    "### - caching"
   ]
  },
  {
   "cell_type": "markdown",
   "id": "2d753166",
   "metadata": {
    "slideshow": {
     "slide_type": "fragment"
    }
   },
   "source": [
    "### - cloud offering"
   ]
  },
  {
   "cell_type": "markdown",
   "id": "b8901527",
   "metadata": {
    "slideshow": {
     "slide_type": "fragment"
    }
   },
   "source": [
    "### - one-click deployment"
   ]
  },
  {
   "cell_type": "markdown",
   "id": "e23924d8",
   "metadata": {
    "slideshow": {
     "slide_type": "slide"
    }
   },
   "source": [
    "## Thank you!\n",
    "\n",
    "- https://github.com/mljar/mercury\n",
    "- https://mljar.com/mercury\n",
    "- contact@mljar.com"
   ]
  }
 ],
 "metadata": {
  "celltoolbar": "Slideshow",
  "kernelspec": {
   "display_name": "euroenv",
   "language": "python",
   "name": "euroenv"
  },
  "language_info": {
   "codemirror_mode": {
    "name": "ipython",
    "version": 3
   },
   "file_extension": ".py",
   "mimetype": "text/x-python",
   "name": "python",
   "nbconvert_exporter": "python",
   "pygments_lexer": "ipython3",
   "version": "3.8.0"
  }
 },
 "nbformat": 4,
 "nbformat_minor": 5
}
