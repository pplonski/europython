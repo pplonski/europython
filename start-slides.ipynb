{
 "cells": [
  {
   "cell_type": "raw",
   "metadata": {
    "slideshow": {
     "slide_type": "skip"
    }
   },
   "source": [
    "---\n",
    "title: Start slides 🚀 \n",
    "description: EuroPython 2022\n",
    "output: slides\n",
    "format:\n",
    "    theme: simple\n",
    "show-code: false\n",
    "params:\n",
    "    greetings:\n",
    "        input: text\n",
    "        value: Hello\n",
    "        label: Greetings\n",
    "    points_count:\n",
    "        input: slider\n",
    "        label: Points count\n",
    "        value: 100\n",
    "        min: 25\n",
    "        max: 200\n",
    "    color:\n",
    "        input: select\n",
    "        label: Points color\n",
    "        value: blue\n",
    "        choices: [blue, orange, green, red]\n",
    "---"
   ]
  },
  {
   "cell_type": "code",
   "execution_count": 1,
   "metadata": {
    "slideshow": {
     "slide_type": "skip"
    }
   },
   "outputs": [],
   "source": [
    "greetings = \"Hello\"\n",
    "points_count = 100\n",
    "color = \"blue\""
   ]
  },
  {
   "cell_type": "markdown",
   "metadata": {
    "slideshow": {
     "slide_type": "slide"
    }
   },
   "source": [
    "<center>\n",
    "    <h1>Mercury</h1>    \n",
    "    <h2>Build & share data web apps <br/>from Jupyter Notebook</h2>\n",
    "    <br />\n",
    "    <h2>Piotr Płoński</h2>\n",
    "    <br />\n",
    "    <h3>EuroPython 2022</h3>\n",
    "    <h3>15.07.2022</h3>\n",
    "</center>"
   ]
  },
  {
   "cell_type": "markdown",
   "metadata": {
    "slideshow": {
     "slide_type": "slide"
    }
   },
   "source": [
    "## Mercury\n",
    "\n",
    "![](https://github.com/pplonski/europython/raw/main/media/turn-notebook-to-web-app.png)"
   ]
  },
  {
   "cell_type": "markdown",
   "metadata": {
    "slideshow": {
     "slide_type": "slide"
    }
   },
   "source": [
    "## Jupyter Notebook\n",
    "\n",
    "![](https://github.com/pplonski/europython/raw/main/media/example-notebook.png)"
   ]
  },
  {
   "cell_type": "markdown",
   "metadata": {
    "slideshow": {
     "slide_type": "slide"
    }
   },
   "source": [
    "## Very popular!\n",
    "\n",
    "![](https://github.com/pplonski/europython/raw/main/media/number-ipynb-github.png)\n",
    "\n",
    "Source: https://github.com/parente/nbestimate/blob/master/estimate.ipynb"
   ]
  },
  {
   "cell_type": "markdown",
   "metadata": {
    "slideshow": {
     "slide_type": "slide"
    }
   },
   "source": [
    "## Many use cases\n",
    "\n",
    "### - data science \n",
    "### - machine learning\n",
    "### - scientific computations\n",
    "### - prototyping"
   ]
  },
  {
   "cell_type": "markdown",
   "metadata": {
    "slideshow": {
     "slide_type": "slide"
    }
   },
   "source": [
    "# Surprising use cases\n"
   ]
  },
  {
   "cell_type": "markdown",
   "metadata": {
    "slideshow": {
     "slide_type": "subslide"
    }
   },
   "source": [
    "## Creating Python packages - nbdev\n",
    "\n",
    "![](https://raw.githubusercontent.com/mljar/visual-identity/main/media/nbdev-code-to-docs.gif)"
   ]
  },
  {
   "cell_type": "markdown",
   "metadata": {
    "slideshow": {
     "slide_type": "subslide"
    }
   },
   "source": [
    "## Books\n",
    "\n",
    "\n",
    "![](https://github.com/pplonski/europython/raw/main/media/jupyter-book.png)"
   ]
  },
  {
   "cell_type": "markdown",
   "metadata": {
    "slideshow": {
     "slide_type": "subslide"
    }
   },
   "source": [
    "## Blogs\n",
    "\n",
    "\n",
    "![](https://github.com/pplonski/europython/raw/main/media/nikola-themes.png)"
   ]
  },
  {
   "cell_type": "markdown",
   "metadata": {
    "slideshow": {
     "slide_type": "slide"
    }
   },
   "source": [
    "# What is the most important part of notebook?"
   ]
  },
  {
   "cell_type": "markdown",
   "metadata": {
    "slideshow": {
     "slide_type": "slide"
    }
   },
   "source": [
    "# Code vs Outputs"
   ]
  },
  {
   "cell_type": "markdown",
   "metadata": {
    "slideshow": {
     "slide_type": "fragment"
    }
   },
   "source": [
    "## Code is for developers"
   ]
  },
  {
   "cell_type": "markdown",
   "metadata": {
    "slideshow": {
     "slide_type": "fragment"
    }
   },
   "source": [
    "## Output is for non-technical users"
   ]
  },
  {
   "cell_type": "markdown",
   "metadata": {
    "slideshow": {
     "slide_type": "slide"
    }
   },
   "source": [
    "## How to share notebooks with non-technical users?\n",
    "\n",
    "\n",
    "![](https://github.com/pplonski/europython/raw/main/media/analysis-ready.jpg)"
   ]
  },
  {
   "cell_type": "markdown",
   "metadata": {
    "slideshow": {
     "slide_type": "slide"
    }
   },
   "source": [
    "## Cant share notebook file with non-technical users ❌\n",
    "\n",
    "\n",
    "![](https://github.com/pplonski/europython/raw/main/media/share-notebook-photo.png)"
   ]
  },
  {
   "cell_type": "markdown",
   "metadata": {
    "slideshow": {
     "slide_type": "slide"
    }
   },
   "source": [
    "## Cant share notebook file with non-technical users:\n"
   ]
  },
  {
   "cell_type": "markdown",
   "metadata": {
    "slideshow": {
     "slide_type": "fragment"
    }
   },
   "source": [
    "### - some Python knowledge required"
   ]
  },
  {
   "cell_type": "markdown",
   "metadata": {
    "slideshow": {
     "slide_type": "fragment"
    }
   },
   "source": [
    "### - local development environment (Python + packages + hardware)"
   ]
  },
  {
   "cell_type": "markdown",
   "metadata": {
    "slideshow": {
     "slide_type": "fragment"
    }
   },
   "source": [
    "### - access to data "
   ]
  },
  {
   "cell_type": "markdown",
   "metadata": {
    "slideshow": {
     "slide_type": "slide"
    }
   },
   "source": [
    "## Ways to share notebooks?"
   ]
  },
  {
   "cell_type": "markdown",
   "metadata": {
    "slideshow": {
     "slide_type": "subslide"
    }
   },
   "source": [
    "## Host on GitHub\n",
    "\n",
    "Just static view! No interaction\n",
    "\n",
    "![](https://github.com/pplonski/europython/raw/main/media/github-notebook.png)"
   ]
  },
  {
   "cell_type": "markdown",
   "metadata": {
    "slideshow": {
     "slide_type": "subslide"
    }
   },
   "source": [
    "## NBViewer\n",
    "\n",
    "Just static view! No interaction\n",
    "\n",
    "![](https://github.com/pplonski/europython/raw/main/media/nbviewer.png)"
   ]
  },
  {
   "cell_type": "markdown",
   "metadata": {
    "slideshow": {
     "slide_type": "subslide"
    }
   },
   "source": [
    "## MyBinder\n",
    "\n",
    "Full JupyterLab launched - end-user needs to be tech savvy\n",
    "\n",
    "![](https://github.com/pplonski/europython/raw/main/media/binder.png)"
   ]
  },
  {
   "cell_type": "markdown",
   "metadata": {
    "slideshow": {
     "slide_type": "subslide"
    }
   },
   "source": [
    "## Online services with notebooks\n",
    "\n",
    "- CoCalc\n",
    "- Google Colab\n",
    "- Kaggle Kernels\n",
    "- Datalore\n",
    "- Deepnote\n",
    "\n",
    "### Easy to launch envrionment but ...\n",
    "### End-users need to understand code!"
   ]
  },
  {
   "cell_type": "markdown",
   "metadata": {
    "slideshow": {
     "slide_type": "subslide"
    }
   },
   "source": [
    "## Convert to static HTML or PDF\n",
    "\n",
    "Amazing `nbconvert` program, but still sharing and updates are hard!\n",
    "\n",
    "\n",
    "![](https://github.com/pplonski/europython/raw/main/media/nbconvert-command-4.png)"
   ]
  },
  {
   "cell_type": "markdown",
   "metadata": {
    "slideshow": {
     "slide_type": "subslide"
    }
   },
   "source": [
    "## Create a PowerPoint presentation\n",
    "\n",
    "- easy to understand 😊\n",
    "- needs to manually updated\n",
    "- presentations are static, cant be updated during the show\n",
    "\n",
    "![](https://github.com/pplonski/europython/raw/main/media/presentation-photo.png)"
   ]
  },
  {
   "cell_type": "markdown",
   "metadata": {
    "slideshow": {
     "slide_type": "subslide"
    }
   },
   "source": [
    "## Rewrite notebook to app\n",
    "\n",
    "- a lot of work\n",
    "- need to know some UI / web framework\n",
    "\n",
    "### Many Python based web frameworks\n",
    "\n",
    "- ipywidgets + voila\n",
    "- Plotly Dash\n",
    "- streamlit\n",
    "- Panel\n",
    "\n",
    "But all of them require you to write UI code. None of them can turn notebook to usable web app without additional UI coding.\n"
   ]
  },
  {
   "cell_type": "markdown",
   "metadata": {
    "slideshow": {
     "slide_type": "slide"
    }
   },
   "source": [
    "## Mercury 🎉\n",
    "\n",
    "![](https://raw.githubusercontent.com/mljar/visual-identity/main/mercury/mercury-new-way-to-share-python-notebook.png)"
   ]
  },
  {
   "cell_type": "markdown",
   "metadata": {
    "slideshow": {
     "slide_type": "slide"
    }
   },
   "source": [
    "## Example?"
   ]
  },
  {
   "cell_type": "markdown",
   "metadata": {
    "slideshow": {
     "slide_type": "fragment"
    }
   },
   "source": [
    "## This presentation!"
   ]
  },
  {
   "cell_type": "code",
   "execution_count": 2,
   "metadata": {
    "slideshow": {
     "slide_type": "slide"
    }
   },
   "outputs": [
    {
     "data": {
      "text/markdown": [
       "# Hello Dublin!"
      ],
      "text/plain": [
       "<IPython.core.display.Markdown object>"
      ]
     },
     "execution_count": 2,
     "metadata": {},
     "output_type": "execute_result"
    }
   ],
   "source": [
    "from IPython.display import Markdown\n",
    "Markdown(f\"# {greetings} Dublin!\")"
   ]
  },
  {
   "cell_type": "markdown",
   "metadata": {
    "slideshow": {
     "slide_type": "slide"
    }
   },
   "source": [
    "## Update chart during presentation "
   ]
  },
  {
   "cell_type": "code",
   "execution_count": 3,
   "metadata": {
    "slideshow": {
     "slide_type": "slide"
    }
   },
   "outputs": [
    {
     "data": {
      "image/png": "[encoded data removed]",
      "text/plain": [
       "<Figure size 720x504 with 1 Axes>"
      ]
     },
     "metadata": {
      "needs_background": "light"
     },
     "output_type": "display_data"
    }
   ],
   "source": [
    "from matplotlib import pyplot as plt\n",
    "import random\n",
    "import matplotlib.pyplot as plt\n",
    "plt.rcParams.update({'font.size': 22})\n",
    "plt.figure(figsize=(10, 7))\n",
    "\n",
    "x = [random.gauss(0, 1) for _ in range(points_count)]\n",
    "y = [random.gauss(0, 1) for _ in range(points_count)]\n",
    "_=plt.plot(x, y, '.', markersize=24, color=color)\n",
    "\n"
   ]
  },
  {
   "cell_type": "markdown",
   "metadata": {
    "slideshow": {
     "slide_type": "slide"
    }
   },
   "source": [
    "# How to use Mercury?"
   ]
  },
  {
   "cell_type": "markdown",
   "metadata": {
    "slideshow": {
     "slide_type": "slide"
    }
   },
   "source": [
    "## Notebook\n",
    "\n",
    "\n",
    "![](https://github.com/pplonski/europython/raw/main/media/two-cells-notebook-2.png)"
   ]
  },
  {
   "cell_type": "markdown",
   "metadata": {
    "slideshow": {
     "slide_type": "skip"
    }
   },
   "source": [
    "## Add YAML header\n",
    "\n",
    "```\n",
    "---\n",
    "title: My notebook\n",
    "description: My first notebook in Mercury\n",
    "show-code: False\n",
    "params:\n",
    "    year:\n",
    "        input: slider\n",
    "        label: Select the year\n",
    "        value: 2022\n",
    "        min: 2010\n",
    "        max: 2025\n",
    "    greetings:\n",
    "        input: select\n",
    "        label: Select greetings\n",
    "        value: Cześć\n",
    "        choices: [Cześć, Hello, Hola, Hallo, Salut, Ciao]\n",
    "---\n",
    "```\n"
   ]
  },
  {
   "attachments": {},
   "cell_type": "markdown",
   "metadata": {
    "slideshow": {
     "slide_type": "slide"
    }
   },
   "source": [
    "![](https://github.com/pplonski/europython/raw/main/media/yaml-header-code.png)"
   ]
  },
  {
   "cell_type": "markdown",
   "metadata": {
    "slideshow": {
     "slide_type": "slide"
    }
   },
   "source": [
    "\n",
    "![](https://github.com/pplonski/europython/raw/main/media/yaml-config.png)"
   ]
  },
  {
   "cell_type": "markdown",
   "metadata": {
    "slideshow": {
     "slide_type": "slide"
    }
   },
   "source": [
    "## YAML parameters\n",
    "\n",
    "![](https://github.com/pplonski/europython/raw/main/media/yaml-parameters.png)\n"
   ]
  },
  {
   "cell_type": "markdown",
   "metadata": {
    "slideshow": {
     "slide_type": "slide"
    }
   },
   "source": [
    "## Widgets as YAML\n",
    "\n",
    "\n",
    "\n",
    "![](https://github.com/pplonski/europython/raw/main/media/widgets-yaml.png)"
   ]
  },
  {
   "cell_type": "markdown",
   "metadata": {
    "slideshow": {
     "slide_type": "slide"
    }
   },
   "source": [
    "# How to get started with Mercury?\n",
    "\n",
    "\n",
    "![](https://github.com/pplonski/europython/raw/main/media/demo-command.png)"
   ]
  },
  {
   "cell_type": "markdown",
   "metadata": {
    "slideshow": {
     "slide_type": "slide"
    }
   },
   "source": [
    "# Features"
   ]
  },
  {
   "cell_type": "markdown",
   "metadata": {
    "slideshow": {
     "slide_type": "slide"
    }
   },
   "source": [
    "## App gallery\n",
    "\n",
    "\n",
    "![](https://github.com/pplonski/europython/raw/main/media/mercury_share_multiple_notebooks.png)"
   ]
  },
  {
   "cell_type": "markdown",
   "metadata": {
    "slideshow": {
     "slide_type": "slide"
    }
   },
   "source": [
    "## Download executed notebook as HTML\n",
    "\n",
    "![](https://raw.githubusercontent.com/pplonski/budapest-ml-forum-2022/main/media/download_executed_notebook.gif)"
   ]
  },
  {
   "cell_type": "markdown",
   "metadata": {
    "slideshow": {
     "slide_type": "slide"
    }
   },
   "source": [
    "## Download executed notebook as PDF\n",
    "\n",
    "![](https://raw.githubusercontent.com/pplonski/automated-pdf-reports-python/main/media/report-to-pdf.gif)"
   ]
  },
  {
   "cell_type": "markdown",
   "metadata": {
    "slideshow": {
     "slide_type": "slide"
    }
   },
   "source": [
    "## Execution history\n",
    "\n",
    "\n",
    "![](https://github.com/pplonski/europython/raw/main/media/demo-execution-history.png)\n"
   ]
  },
  {
   "cell_type": "markdown",
   "metadata": {
    "slideshow": {
     "slide_type": "slide"
    }
   },
   "source": [
    "## Authentication\n"
   ]
  },
  {
   "cell_type": "markdown",
   "metadata": {
    "slideshow": {
     "slide_type": "slide"
    }
   },
   "source": [
    "## Share with authenticated users 🔒\n",
    "\n",
    "![](https://github.com/pplonski/europython/raw/main/media/share-private.png)\n",
    "\n"
   ]
  },
  {
   "cell_type": "markdown",
   "metadata": {
    "slideshow": {
     "slide_type": "slide"
    }
   },
   "source": [
    "## Share with selected users 👧👦\n",
    "\n",
    "![](https://github.com/pplonski/europython/raw/main/media/share-users.png)\n",
    "\n"
   ]
  },
  {
   "cell_type": "markdown",
   "metadata": {
    "slideshow": {
     "slide_type": "slide"
    }
   },
   "source": [
    "## Authentication\n",
    "\n",
    "\n",
    "![](https://github.com/pplonski/europython/raw/main/media/mercury_add_authentication_to_notebook.gif)"
   ]
  },
  {
   "cell_type": "markdown",
   "metadata": {
    "slideshow": {
     "slide_type": "slide"
    }
   },
   "source": [
    "## Schedule automatic execution\n",
    "\n",
    "\n",
    "![](https://github.com/pplonski/europython/raw/main/media/schedule-command.png)"
   ]
  },
  {
   "cell_type": "markdown",
   "metadata": {
    "slideshow": {
     "slide_type": "slide"
    }
   },
   "source": [
    "## Schedule with notifications\n",
    "\n",
    "\n",
    "![](https://github.com/pplonski/europython/raw/main/media/email-with-pdf-report.png)"
   ]
  },
  {
   "cell_type": "markdown",
   "metadata": {
    "slideshow": {
     "slide_type": "slide"
    }
   },
   "source": [
    "## Notebook embedding\n",
    "\n",
    "```\n",
    "<iframe src=\"https://mercury.mljar.com/app/5/embed\" height=\"700px\" width=\"100%\"></iframe>\n",
    "```\n",
    "\n",
    "<iframe src=\"https://mercury.mljar.com/app/5/embed\" height=\"700px\" width=\"100%\"></iframe>"
   ]
  },
  {
   "cell_type": "markdown",
   "metadata": {
    "slideshow": {
     "slide_type": "slide"
    }
   },
   "source": [
    "# Architecture"
   ]
  },
  {
   "cell_type": "markdown",
   "metadata": {
    "slideshow": {
     "slide_type": "slide"
    }
   },
   "source": [
    "## Add notebook\n",
    "\n",
    "![](https://github.com/pplonski/europython/raw/main/media/notebook-init.png)"
   ]
  },
  {
   "cell_type": "markdown",
   "metadata": {
    "slideshow": {
     "slide_type": "slide"
    }
   },
   "source": [
    "## Execute notebook\n",
    "\n",
    "![](https://github.com/pplonski/europython/raw/main/media/notebook-run.png)"
   ]
  },
  {
   "cell_type": "markdown",
   "metadata": {
    "slideshow": {
     "slide_type": "slide"
    }
   },
   "source": [
    "## Execute notebook (frontend)\n",
    "\n",
    "![](https://github.com/pplonski/europython/raw/main/media/run-frontend-2.png)"
   ]
  },
  {
   "cell_type": "markdown",
   "metadata": {
    "slideshow": {
     "slide_type": "slide"
    }
   },
   "source": [
    "## Execute notebook (backend)\n",
    "\n",
    "![](https://github.com/pplonski/europython/raw/main/media/run-background.png)"
   ]
  },
  {
   "cell_type": "markdown",
   "metadata": {
    "slideshow": {
     "slide_type": "slide"
    }
   },
   "source": [
    "# Deployment"
   ]
  },
  {
   "cell_type": "markdown",
   "metadata": {
    "slideshow": {
     "slide_type": "subslide"
    }
   },
   "source": [
    "## Heroku\n",
    "\n",
    "\n",
    "![](https://github.com/pplonski/europython/raw/main/media/heroku-command.png)"
   ]
  },
  {
   "cell_type": "markdown",
   "metadata": {
    "slideshow": {
     "slide_type": "subslide"
    }
   },
   "source": [
    "## Heroku\n",
    "\n",
    "\n",
    "![](https://github.com/pplonski/europython/raw/main/media/heroku-apps.png)"
   ]
  },
  {
   "cell_type": "markdown",
   "metadata": {
    "slideshow": {
     "slide_type": "subslide"
    }
   },
   "source": [
    "## HuggingFace Spaces \n",
    "\n",
    "![](https://mercury-docs.readthedocs.io/en/latest/media/mercury-hugging-face-spaces.gif)"
   ]
  },
  {
   "cell_type": "markdown",
   "metadata": {
    "slideshow": {
     "slide_type": "subslide"
    }
   },
   "source": [
    "## docker-compose\n",
    "\n",
    "\n",
    "![](https://github.com/pplonski/europython/raw/main/media/docker-command.png)\n",
    "\n",
    "\n",
    "There is prepared docker-compose with Let's encrypt support."
   ]
  },
  {
   "cell_type": "markdown",
   "metadata": {
    "slideshow": {
     "slide_type": "slide"
    }
   },
   "source": [
    "## License"
   ]
  },
  {
   "cell_type": "markdown",
   "metadata": {
    "slideshow": {
     "slide_type": "fragment"
    }
   },
   "source": [
    "### - dual license"
   ]
  },
  {
   "cell_type": "markdown",
   "metadata": {
    "slideshow": {
     "slide_type": "fragment"
    }
   },
   "source": [
    "### - AGPLv3 for core (95% of features)"
   ]
  },
  {
   "cell_type": "markdown",
   "metadata": {
    "slideshow": {
     "slide_type": "fragment"
    }
   },
   "source": [
    "### - commercial license for additional features, dedicated support, customization"
   ]
  },
  {
   "cell_type": "markdown",
   "metadata": {
    "slideshow": {
     "slide_type": "fragment"
    }
   },
   "source": [
    "### - long sustanability of the framework"
   ]
  },
  {
   "cell_type": "markdown",
   "metadata": {
    "slideshow": {
     "slide_type": "slide"
    }
   },
   "source": [
    "# 🖥️ More demos 🚀"
   ]
  }
 ],
 "metadata": {
  "celltoolbar": "Slideshow",
  "kernelspec": {
   "display_name": "euroenv",
   "language": "python",
   "name": "euroenv"
  },
  "language_info": {
   "codemirror_mode": {
    "name": "ipython",
    "version": 3
   },
   "file_extension": ".py",
   "mimetype": "text/x-python",
   "name": "python",
   "nbconvert_exporter": "python",
   "pygments_lexer": "ipython3",
   "version": "3.8.10"
  }
 },
 "nbformat": 4,
 "nbformat_minor": 2
}
