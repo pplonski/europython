{
 "cells": [
  {
   "cell_type": "raw",
   "metadata": {
    "slideshow": {
     "slide_type": "skip"
    }
   },
   "source": [
    "---\n",
    "title: Start slides 🚀 \n",
    "description: EuroPython 2022\n",
    "output: slides\n",
    "format:\n",
    "    theme: simple\n",
    "show-code: false\n",
    "params:\n",
    "    greetings:\n",
    "        input: text\n",
    "        value: Hello\n",
    "        label: Greetings\n",
    "    color:\n",
    "        input: select\n",
    "        label: Points color\n",
    "        value: blue\n",
    "        choices: [blue, orange, green, red]\n",
    "---"
   ]
  },
  {
   "cell_type": "code",
   "execution_count": 1,
   "metadata": {
    "slideshow": {
     "slide_type": "skip"
    }
   },
   "outputs": [],
   "source": [
    "greetings = \"Hello\"\n",
    "color = \"blue\""
   ]
  },
  {
   "cell_type": "markdown",
   "metadata": {
    "slideshow": {
     "slide_type": "slide"
    }
   },
   "source": [
    "<center>\n",
    "    <h1>Mercury</h1>    \n",
    "    <h2>Build & share data web apps <br/>from Jupyter Notebook</h2>\n",
    "    <br />\n",
    "    <h2>Piotr Płoński</h2>\n",
    "    <br />\n",
    "    <h3>EuroPython 2022</h3>\n",
    "    <h3>15.07.2022</h3>\n",
    "</center>"
   ]
  },
  {
   "cell_type": "markdown",
   "metadata": {
    "slideshow": {
     "slide_type": "slide"
    }
   },
   "source": [
    "# Prob"
   ]
  }
 ],
 "metadata": {
  "celltoolbar": "Slideshow",
  "kernelspec": {
   "display_name": "euroenv",
   "language": "python",
   "name": "euroenv"
  },
  "language_info": {
   "codemirror_mode": {
    "name": "ipython",
    "version": 3
   },
   "file_extension": ".py",
   "mimetype": "text/x-python",
   "name": "python",
   "nbconvert_exporter": "python",
   "pygments_lexer": "ipython3",
   "version": "3.8.0"
  }
 },
 "nbformat": 4,
 "nbformat_minor": 2
}
